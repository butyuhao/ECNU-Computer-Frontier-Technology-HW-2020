{
 "cells": [
  {
   "cell_type": "code",
   "execution_count": 1,
   "metadata": {},
   "outputs": [],
   "source": [
    "import numpy as np\n",
    "import pandas as pd\n",
    "from sklearn.model_selection import train_test_split\n",
    "from sklearn import datasets, linear_model\n",
    "from sklearn.linear_model import LinearRegression\n",
    "from sklearn import metrics"
   ]
  },
  {
   "cell_type": "code",
   "execution_count": 2,
   "metadata": {},
   "outputs": [],
   "source": [
    "# 读取训练集和测试集\n",
    "train_data = pd.read_csv('./data/train.csv', encoding='utf-8', header=None)\n",
    "test_data = pd.read_csv('./data/test.csv', encoding='utf-8', header=None)"
   ]
  },
  {
   "cell_type": "code",
   "execution_count": 3,
   "metadata": {},
   "outputs": [],
   "source": [
    "# 将字母类型的数据替换成数字，M,F,I分别替换为1，2，3\n",
    "train_data = train_data.replace(to_replace=['M', 'F', 'I'], value=[1, 2, 3])\n",
    "test_data = test_data.replace(to_replace=['M', 'F', 'I'], value=[1, 2, 3])"
   ]
  },
  {
   "cell_type": "code",
   "execution_count": 4,
   "metadata": {},
   "outputs": [],
   "source": [
    "# 从训练数据中提取X和y，X是0-7列，我们要预测的是鲍鱼的年龄，在第8列\n",
    "X = train_data.iloc[:, 0:8]\n",
    "y = train_data.iloc[:, 8]"
   ]
  },
  {
   "cell_type": "code",
   "execution_count": 5,
   "metadata": {},
   "outputs": [],
   "source": [
    "# 从训练集中划分出验证集\n",
    "X_train, X_val, y_train, y_val = train_test_split(X, y, random_state=1, test_size=0.1)"
   ]
  },
  {
   "cell_type": "code",
   "execution_count": 6,
   "metadata": {},
   "outputs": [
    {
     "data": {
      "text/plain": [
       "LinearRegression()"
      ]
     },
     "execution_count": 6,
     "metadata": {},
     "output_type": "execute_result"
    }
   ],
   "source": [
    "# 实例化线性回归对象，并训练模型\n",
    "linreg = LinearRegression()\n",
    "linreg.fit(X_train, y_train)"
   ]
  },
  {
   "cell_type": "code",
   "execution_count": 7,
   "metadata": {},
   "outputs": [
    {
     "name": "stdout",
     "output_type": "stream",
     "text": [
      "最佳拟合线的截距：4.266872873924095\n",
      "回归系数：[ -0.41990131   0.19502807  11.06293131   9.55020514   8.29964508\n",
      " -19.39526478  -8.79059098   9.31119135]\n",
      "MSE: 4.523840807157631\n",
      "RMSE: 2.126932252601768\n"
     ]
    }
   ],
   "source": [
    "print(\"最佳拟合线的截距：\"+str(linreg.intercept_))\n",
    "print(\"回归系数：\"+str(linreg.coef_))\n",
    "\n",
    "y_pred = linreg.predict(X_val)\n",
    "print (\"MSE:\",metrics.mean_squared_error(y_val, y_pred))\n",
    "print (\"RMSE:\",np.sqrt(metrics.mean_squared_error(y_val, y_pred)))"
   ]
  },
  {
   "cell_type": "code",
   "execution_count": 8,
   "metadata": {},
   "outputs": [],
   "source": [
    "# 预测测试数据\n",
    "y_pred_test = linreg.predict(test_data).tolist()\n",
    "y_pred_test = [round(p, 2) for p in y_pred_test]"
   ]
  },
  {
   "cell_type": "code",
   "execution_count": 9,
   "metadata": {},
   "outputs": [],
   "source": [
    "#生成提交结果的文本\n",
    "with open('result.txt', 'w') as f:\n",
    "    for r in y_pred_test:\n",
    "        f.write(str(r) + '\\n')"
   ]
  },
  {
   "cell_type": "code",
   "execution_count": null,
   "metadata": {},
   "outputs": [],
   "source": []
  }
 ],
 "metadata": {
  "kernelspec": {
   "display_name": "Python 3.7.7 64-bit ('data': conda)",
   "language": "python",
   "name": "python37764bitdataconda7bd04506d3f34ba9afe18d5228f136de"
  },
  "language_info": {
   "codemirror_mode": {
    "name": "ipython",
    "version": 3
   },
   "file_extension": ".py",
   "mimetype": "text/x-python",
   "name": "python",
   "nbconvert_exporter": "python",
   "pygments_lexer": "ipython3",
   "version": "3.7.9"
  }
 },
 "nbformat": 4,
 "nbformat_minor": 4
}
